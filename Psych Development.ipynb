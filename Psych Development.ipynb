{
 "cells": [
  {
   "cell_type": "markdown",
   "metadata": {},
   "source": [
    "#Psychic Development Notebook\n",
    "\n",
    "This notebook contains code to illustrate the tool's individual classes etc."
   ]
  },
  {
   "cell_type": "code",
   "execution_count": null,
   "metadata": {
    "collapsed": true
   },
   "outputs": [],
   "source": [
    "#Step 1: Pick the path to the data\n",
    "pathToData = '../../cgi-data/';"
   ]
  },
  {
   "cell_type": "code",
   "execution_count": null,
   "metadata": {
    "collapsed": true
   },
   "outputs": [],
   "source": [
    "#Step 2: Illustrate the baby-names system, if you have not yet downloaded and populated the \n",
    "#various databases, and files, this won't work.\n",
    "import web_helper_functions as whf\n",
    "\n",
    "con = lite.connect(pathToData + 'psych.db')\n",
    "whf.add_question(con, userid, dataset, dataitem, detail);"
   ]
  }
 ],
 "metadata": {
  "kernelspec": {
   "display_name": "Python 2",
   "language": "python",
   "name": "python2"
  },
  "language_info": {
   "codemirror_mode": {
    "name": "ipython",
    "version": 2
   },
   "file_extension": ".py",
   "mimetype": "text/x-python",
   "name": "python",
   "nbconvert_exporter": "python",
   "pygments_lexer": "ipython2",
   "version": "2.7.9"
  }
 },
 "nbformat": 4,
 "nbformat_minor": 0
}
