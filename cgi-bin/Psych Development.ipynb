{
 "cells": [
  {
   "cell_type": "markdown",
   "metadata": {},
   "source": [
    "#Psychic Development Notebook\n",
    "\n",
    "This notebook contains code to illustrate the tool's individual classes etc."
   ]
  },
  {
   "cell_type": "code",
   "execution_count": 6,
   "metadata": {
    "collapsed": false
   },
   "outputs": [
    {
     "name": "stdout",
     "output_type": "stream",
     "text": [
      "\r",
      " [-----------------100%-----------------] 2000 of 2000 complete in 0.2 sec"
     ]
    },
    {
     "data": {
      "image/png": "[encoded data removed]",
      "text/plain": [
       "<matplotlib.figure.Figure at 0x7f2fe3c88f50>"
      ]
     },
     "metadata": {},
     "output_type": "display_data"
    }
   ],
   "source": [
    "import numpy as np\n",
    "import pymc as pm\n",
    "import matplotlib.pyplot as plt\n",
    "\n",
    "%matplotlib inline\n",
    "a = pm.Categorical('a',np.array([.4,.6]))\n",
    "model = pm.Model([a])\n",
    "mcmc = pm.MCMC(model)\n",
    "mcmc.sample(2000,1000,1)\n",
    "plt.plot(mcmc.trace('a')[:]);"
   ]
  },
  {
   "cell_type": "code",
   "execution_count": 8,
   "metadata": {
    "collapsed": true
   },
   "outputs": [],
   "source": [
    "#Step 1: Pick the path to the data\n",
    "pathToData = '../../cgi-data/';"
   ]
  },
  {
   "cell_type": "code",
   "execution_count": 3,
   "metadata": {
    "collapsed": false
   },
   "outputs": [
    {
     "ename": "NameError",
     "evalue": "name 'userid' is not defined",
     "output_type": "error",
     "traceback": [
      "\u001b[1;31m---------------------------------------------------------------------------\u001b[0m",
      "\u001b[1;31mNameError\u001b[0m                                 Traceback (most recent call last)",
      "\u001b[1;32m<ipython-input-3-0755093db783>\u001b[0m in \u001b[0;36m<module>\u001b[1;34m()\u001b[0m\n\u001b[0;32m      5\u001b[0m \u001b[1;33m\u001b[0m\u001b[0m\n\u001b[0;32m      6\u001b[0m \u001b[0mcon\u001b[0m \u001b[1;33m=\u001b[0m \u001b[0mlite\u001b[0m\u001b[1;33m.\u001b[0m\u001b[0mconnect\u001b[0m\u001b[1;33m(\u001b[0m\u001b[0mpathToData\u001b[0m \u001b[1;33m+\u001b[0m \u001b[1;34m'psych.db'\u001b[0m\u001b[1;33m)\u001b[0m\u001b[1;33m\u001b[0m\u001b[0m\n\u001b[1;32m----> 7\u001b[1;33m \u001b[0mwhf\u001b[0m\u001b[1;33m.\u001b[0m\u001b[0madd_question\u001b[0m\u001b[1;33m(\u001b[0m\u001b[0mcon\u001b[0m\u001b[1;33m,\u001b[0m \u001b[0muserid\u001b[0m\u001b[1;33m,\u001b[0m \u001b[0mdataset\u001b[0m\u001b[1;33m,\u001b[0m \u001b[0mdataitem\u001b[0m\u001b[1;33m,\u001b[0m \u001b[0mdetail\u001b[0m\u001b[1;33m)\u001b[0m\u001b[1;33m;\u001b[0m\u001b[1;33m\u001b[0m\u001b[0m\n\u001b[0m",
      "\u001b[1;31mNameError\u001b[0m: name 'userid' is not defined"
     ]
    }
   ],
   "source": [
    "#Step 2: Illustrate the baby-names system, if you have not yet downloaded and populated the \n",
    "#various databases, and files, this won't work.\n",
    "#import web_helper_functions as whf\n",
    "#import sqlite3 as lite\n",
    "#con = lite.connect(pathToData + 'psych.db')\n",
    "#whf.add_question(con, 999999, 'where', dataitem, detail);\n",
    "#TODO: Bit of a hassle."
   ]
  },
  {
   "cell_type": "code",
   "execution_count": 19,
   "metadata": {
    "collapsed": false
   },
   "outputs": [],
   "source": [
    "pathToData = '../../cgi-data/';\n",
    "import other_helper_functions as ohf\n",
    "import sqlite3 as lite\n",
    "\n",
    "con = lite.connect(pathToData + 'psych.db')\n",
    "output, model, mcmc, features, facts = ohf.do_inference(con, 116, ['factor_age'])"
   ]
  },
  {
   "cell_type": "code",
   "execution_count": 20,
   "metadata": {
    "collapsed": false
   },
   "outputs": [
    {
     "data": {
      "text/plain": [
       "(array([-13.51323382, -13.44953694, -13.36787918, -12.83789377,\n",
       "        -12.52151607, -12.42566707, -11.87242534, -11.79676719, -11.51674276]),\n",
       " [u'E00172496',\n",
       "  u'E00041308',\n",
       "  u'E00040877',\n",
       "  u'E00041361',\n",
       "  u'E00041359',\n",
       "  u'E00039868',\n",
       "  u'E00039864',\n",
       "  u'E00040875',\n",
       "  u'E00172433',\n",
       "  'K04000001'])"
      ]
     },
     "execution_count": 20,
     "metadata": {},
     "output_type": "execute_result"
    }
   ],
   "source": [
    "np.log(facts['where']['probabilities']),facts['where']['OAs']"
   ]
  },
  {
   "cell_type": "code",
   "execution_count": 26,
   "metadata": {
    "collapsed": false
   },
   "outputs": [
    {
     "name": "stdout",
     "output_type": "stream",
     "text": [
      "28 33\n"
     ]
    },
    {
     "data": {
      "image/png": "[encoded data removed]",
      "text/plain": [
       "<matplotlib.figure.Figure at 0x7f3a670079d0>"
      ]
     },
     "metadata": {},
     "output_type": "display_data"
    }
   ],
   "source": [
    "temp = mcmc.trace('factor_age')[:]\n",
    "plt.hist(temp,max(temp));\n",
    "print temp[len(temp)*0.45], temp[len(temp)*0.55]"
   ]
  },
  {
   "cell_type": "code",
   "execution_count": 2,
   "metadata": {
    "collapsed": false
   },
   "outputs": [
    {
     "name": "stdout",
     "output_type": "stream",
     "text": [
      "0.193777777778 0 Christian\n",
      "*\n",
      "0.0306666666667 1 Buddhist\n",
      "0.0222222222222 2 Hindu\n",
      "0.0306666666667 3 Jewish\n",
      "0.584 4 Muslim\n",
      "*\n",
      "0.0262222222222 5 Sikh\n",
      "0.0262222222222 6 religious (but I do't know which)\n",
      "0.0862222222222 7 of no religion\n",
      "['Christian', 'Muslim']\n",
      "Christian or Muslim\n"
     ]
    },
    {
     "data": {
      "image/png": "[encoded data removed]",
      "text/plain": [
       "<matplotlib.figure.Figure at 0x7f3a64550850>"
      ]
     },
     "metadata": {},
     "output_type": "display_data"
    }
   ],
   "source": [
    "import matplotlib.pyplot as plt\n",
    "%matplotlib inline\n",
    "rel = mcmc.trace('religion')[:]\n",
    "age = mcmc.trace('factor_age')[:]\n",
    "gend = mcmc.trace('factor_gender')[:]\n",
    "oa = mcmc.trace('oa')[:]\n",
    "#plt.plot(mcmc.trace('oa')[:],mcmc.trace('factor_age')[:])\n",
    "#plt.plot(rel[::20],oa[::20],'x')\n",
    "\n",
    "import numpy as np\n",
    "x = np.zeros((9,8))\n",
    "for oas in range(9):\n",
    "    for rels in range(8):\n",
    "        x = sum([o and r for o,r in zip(oa==oas,rel==rels)])\n",
    "        plt.plot(oas,rels,'ko',markersize=x*0.1)\n",
    "plt.xlabel('Outout Area')\n",
    "plt.ylabel('Religion')\n",
    "plt.ylim([-1,8])\n",
    "plt.xlim([0,9])\n",
    "#plt.hist(mcmc.trace('religion')[:],80);\n",
    "\n",
    "rel = mcmc.trace('religion')[:]\n",
    "from answer_census import CensusAnswer\n",
    "listOfReligions = []\n",
    "for i,r in enumerate(CensusAnswer.religion_text):\n",
    "    print np.mean(rel==i),i,r\n",
    "    if (np.mean(rel==i)>0.17):\n",
    "        print \"*\"\n",
    "        listOfReligions.append(r)\n",
    "print listOfReligions\n",
    "if (len(listOfReligions)>1):\n",
    "    msg = ', '.join(listOfReligions[:-1]) + ' or ' + listOfReligions[-1]\n",
    "else:\n",
    "    msg = listOfReligions[0]\n",
    "    \n",
    "print msg\n",
    "#for r in mcmc.trace('religion')[:]\n",
    "    \n",
    "        "
   ]
  },
  {
   "cell_type": "code",
   "execution_count": 2,
   "metadata": {
    "collapsed": false
   },
   "outputs": [],
   "source": [
    "import numpy as np\n",
    "facts = {}\n",
    "facts['where'] = {'probabilities': np.array([  2.61969505e-37,   2.66707403e-31,   2.32066595e-25,\n",
    "         5.02402437e-22,   3.03085406e-10,   2.34257820e-08,\n",
    "         2.38612466e-06,   2.79728521e-06,   4.55157580e-06]), 'OAs': [u'E00172434', u'E00039867', u'E00039868', u'E00039864', u'E00039869', u'E00039865', u'E00039863', u'E00040875', u'E00172433', 'K04000001']}\n",
    "\n",
    "from answer_census import CensusAnswer\n",
    "a = CensusAnswer('','','','')\n",
    "a.calc_probs_religion(facts)"
   ]
  },
  {
   "cell_type": "code",
   "execution_count": 12,
   "metadata": {
    "collapsed": false
   },
   "outputs": [
    {
     "data": {
      "text/plain": [
       "array([ 0.8,  0.9,  0.9,  0.9,  0.9,  0.9,  0.9,  0.8])"
      ]
     },
     "execution_count": 12,
     "metadata": {},
     "output_type": "execute_result"
    }
   ],
   "source": [
    "a.probs[0,0,0,:,0]"
   ]
  },
  {
   "cell_type": "code",
   "execution_count": 2,
   "metadata": {
    "collapsed": false
   },
   "outputs": [],
   "source": [
    "from answer_census import CensusAnswer\n",
    "data = [[0]]\n",
    "CensusAnswer.getReligionDist('E00172434',data)"
   ]
  },
  {
   "cell_type": "code",
   "execution_count": 21,
   "metadata": {
    "collapsed": false
   },
   "outputs": [
    {
     "data": {
      "text/plain": [
       "array([ 0.30882353,  0.01470588,  0.01470588,  0.01470588,  0.01470588,\n",
       "        0.01470588,  0.01470588,  0.60294118])"
      ]
     },
     "execution_count": 21,
     "metadata": {},
     "output_type": "execute_result"
    }
   ],
   "source": [
    "import numpy as np\n",
    "data[0][0][4]"
   ]
  },
  {
   "cell_type": "code",
   "execution_count": 5,
   "metadata": {
    "collapsed": false
   },
   "outputs": [],
   "source": [
    "\n",
    "#df.ix['Males~Age 50 to 64~Jewish']\n",
    "import numpy as np\n",
    "ages = [0,16,25,35,50,65,75]\n",
    "ages_start = [str(a) for a in ages]\n",
    "ages_end = ['to '+str(a-1) for a in ages[1:]]\n",
    "ages_end.append('and over')\n",
    "religions = ['Christian','Buddhist','Hindu','Jewish','Muslim','Sikh','Other religion','No religion']\n",
    "probs = np.empty((2,len(ages),len(religions)))\n",
    "for genderi,gender in enumerate(['Males','Females']):\n",
    "    for agei,(start,end) in enumerate(zip(ages_start,ages_end)):\n",
    "        for religioni,religion in enumerate(religions):\n",
    "            label = \"%s~Age %s %s~%s\" % (gender,start,end,religion)\n",
    "       #     print \"%s=%d\" % (label,df.ix[label])\n",
    "            probs[genderi,agei,religioni] = df[label]\n",
    "\n",
    "#Normalise, with 0.1 people added to each category to smooth\n",
    "for x in range(probs.shape[0]):\n",
    "    for y in range(probs.shape[1]):\n",
    "        probs[x,y,:] += 0.1\n",
    "        probs[x,y,:] = probs[x,y,:] / np.sum(probs[x,y,:])\n",
    "#Note, normalised so that Sum(p|..)=1 over all the religions (we are interested in p(religion|age,gender,oa))"
   ]
  },
  {
   "cell_type": "code",
   "execution_count": 6,
   "metadata": {
    "collapsed": false
   },
   "outputs": [
    {
     "data": {
      "text/plain": [
       "array([[[ 0.39285714,  0.03571429,  0.03571429,  0.03571429,  0.03571429,\n",
       "          0.03571429,  0.03571429,  0.39285714],\n",
       "        [ 0.19444444,  0.10185185,  0.00925926,  0.00925926,  0.00925926,\n",
       "          0.00925926,  0.00925926,  0.65740741],\n",
       "        [ 0.39139344,  0.00204918,  0.00204918,  0.00204918,  0.02254098,\n",
       "          0.00204918,  0.00204918,  0.57581967],\n",
       "        [ 0.30357143,  0.00595238,  0.00595238,  0.00595238,  0.06547619,\n",
       "          0.00595238,  0.00595238,  0.60119048],\n",
       "        [ 0.30882353,  0.01470588,  0.01470588,  0.01470588,  0.01470588,\n",
       "          0.01470588,  0.01470588,  0.60294118],\n",
       "        [ 0.125     ,  0.125     ,  0.125     ,  0.125     ,  0.125     ,\n",
       "          0.125     ,  0.125     ,  0.125     ],\n",
       "        [ 0.125     ,  0.125     ,  0.125     ,  0.125     ,  0.125     ,\n",
       "          0.125     ,  0.125     ,  0.125     ]],\n",
       "\n",
       "       [[ 0.55263158,  0.02631579,  0.02631579,  0.02631579,  0.02631579,\n",
       "          0.02631579,  0.02631579,  0.28947368],\n",
       "        [ 0.56481481,  0.00925926,  0.00925926,  0.00925926,  0.00925926,\n",
       "          0.00925926,  0.00925926,  0.37962963],\n",
       "        [ 0.42987805,  0.00304878,  0.00304878,  0.00304878,  0.06402439,\n",
       "          0.00304878,  0.00304878,  0.49085366],\n",
       "        [ 0.45588235,  0.01470588,  0.01470588,  0.01470588,  0.01470588,\n",
       "          0.01470588,  0.01470588,  0.45588235],\n",
       "        [ 0.05555556,  0.05555556,  0.05555556,  0.05555556,  0.05555556,\n",
       "          0.05555556,  0.05555556,  0.61111111],\n",
       "        [ 0.125     ,  0.125     ,  0.125     ,  0.125     ,  0.125     ,\n",
       "          0.125     ,  0.125     ,  0.125     ],\n",
       "        [ 0.125     ,  0.125     ,  0.125     ,  0.125     ,  0.125     ,\n",
       "          0.125     ,  0.125     ,  0.125     ]]])"
      ]
     },
     "execution_count": 6,
     "metadata": {},
     "output_type": "execute_result"
    }
   ],
   "source": [
    "probs"
   ]
  },
  {
   "cell_type": "code",
   "execution_count": 24,
   "metadata": {
    "collapsed": false
   },
   "outputs": [
    {
     "data": {
      "text/plain": [
       "[<matplotlib.lines.Line2D at 0x7f87534b7810>]"
      ]
     },
     "execution_count": 24,
     "metadata": {},
     "output_type": "execute_result"
    },
    {
     "data": {
      "image/png": "[encoded data removed]",
      "text/plain": [
       "<matplotlib.figure.Figure at 0x7f87535d0190>"
      ]
     },
     "metadata": {},
     "output_type": "display_data"
    }
   ],
   "source": [
    "import matplotlib.pyplot as plt\n",
    "%matplotlib inline\n",
    "plt.plot(mcmc.trace('factor_age')[:]);\n",
    "#plt.xlim([0,100])"
   ]
  },
  {
   "cell_type": "code",
   "execution_count": null,
   "metadata": {
    "collapsed": true
   },
   "outputs": [],
   "source": []
  },
  {
   "cell_type": "code",
   "execution_count": 5,
   "metadata": {
    "collapsed": false
   },
   "outputs": [
    {
     "data": {
      "text/plain": [
       "[<matplotlib.lines.Line2D at 0x7fce4407ae50>]"
      ]
     },
     "execution_count": 5,
     "metadata": {},
     "output_type": "execute_result"
    },
    {
     "data": {
      "image/png": "[encoded data removed]",
      "text/plain": [
       "<matplotlib.figure.Figure at 0x7fce44182410>"
      ]
     },
     "metadata": {},
     "output_type": "display_data"
    }
   ],
   "source": [
    "import matplotlib.pyplot as plt\n",
    "%matplotlib inline\n",
    "plt.plot(mcmc.trace('factor_age')[:])"
   ]
  },
  {
   "cell_type": "code",
   "execution_count": 6,
   "metadata": {
    "collapsed": false
   },
   "outputs": [
    {
     "data": {
      "text/plain": [
       "<matplotlib.contour.QuadContourSet instance at 0x7febdc131560>"
      ]
     },
     "execution_count": 6,
     "metadata": {},
     "output_type": "execute_result"
    },
    {
     "data": {
      "image/png": "[encoded data removed]",
      "text/plain": [
       "<matplotlib.figure.Figure at 0x7febdc2a1e10>"
      ]
     },
     "metadata": {},
     "output_type": "display_data"
    }
   ],
   "source": [
    "X = facts['where']['debug']['X']\n",
    "Y = facts['where']['debug']['Y']\n",
    "Z = facts['where']['debug']['Z']\n",
    "plt.contourf(X,Y,Z)"
   ]
  },
  {
   "cell_type": "code",
   "execution_count": 2,
   "metadata": {
    "collapsed": false
   },
   "outputs": [],
   "source": [
    "pathToData = '../../cgi-data/';\n",
    "import other_helper_functions as ohf\n",
    "import sqlite3 as lite\n",
    "\n",
    "con = lite.connect(pathToData + 'psych.db')\n",
    "from answer_where import WhereAnswer\n",
    "WhereAnswer.init_db()\n",
    "qas = [];\n",
    "qas.append({'dataset':'where','dataitem':'incity','detail':'{\"latitude\": 53.37, \"city\": \"Sheffield\", \"longitude\": -1.495}','answer':'{\"latitude\": 53.37, \"city\": \"Sheffield\", \"response\": \"yes\", \"longitude\": -1.495, \"know\": true}'})\n",
    "qas.append({'dataset':'where','dataitem':'landmark','detail':'262077485','answer':'yes'})\n",
    "qas.append({'dataset':'where','dataitem':'landmarkdist','detail':'262077485','answer':'4.2'})\n",
    "qas.append({'dataset':'where','dataitem':'landmark','detail':'1228018412','answer':'yes'})\n",
    "qas.append({'dataset':'where','dataitem':'landmarkdist','detail':'1228018412','answer':'4.2'})\n",
    "qas.append({'dataset':'where','dataitem':'landmark','detail':'1144275513','answer':'no'})\n",
    "qas = []\n",
    "\n",
    "a,b = WhereAnswer.pick_question(qas)"
   ]
  },
  {
   "cell_type": "code",
   "execution_count": 4,
   "metadata": {
    "collapsed": false
   },
   "outputs": [
    {
     "data": {
      "text/plain": [
       "'{\"latitude\": 53.37, \"city\": \"Sheffield\", \"longitude\": -1.495}'"
      ]
     },
     "execution_count": 4,
     "metadata": {},
     "output_type": "execute_result"
    }
   ],
   "source": []
  },
  {
   "cell_type": "code",
   "execution_count": null,
   "metadata": {
    "collapsed": true
   },
   "outputs": [],
   "source": []
  },
  {
   "cell_type": "code",
   "execution_count": 3,
   "metadata": {
    "collapsed": false
   },
   "outputs": [
    {
     "ename": "NameError",
     "evalue": "name 'items' is not defined",
     "output_type": "error",
     "traceback": [
      "\u001b[1;31m---------------------------------------------------------------------------\u001b[0m",
      "\u001b[1;31mNameError\u001b[0m                                 Traceback (most recent call last)",
      "\u001b[1;32m<ipython-input-3-84933faa0bcb>\u001b[0m in \u001b[0;36m<module>\u001b[1;34m()\u001b[0m\n\u001b[0;32m      3\u001b[0m \u001b[1;32mimport\u001b[0m \u001b[0mnumpy\u001b[0m \u001b[1;32mas\u001b[0m \u001b[0mnp\u001b[0m\u001b[1;33m\u001b[0m\u001b[0m\n\u001b[0;32m      4\u001b[0m \u001b[0mdone\u001b[0m \u001b[1;33m=\u001b[0m \u001b[0mnp\u001b[0m\u001b[1;33m.\u001b[0m\u001b[0marray\u001b[0m\u001b[1;33m(\u001b[0m\u001b[1;33m[\u001b[0m\u001b[1;33m[\u001b[0m\u001b[1;36m432481.664593\u001b[0m\u001b[1;33m,\u001b[0m\u001b[1;36m382013.663893\u001b[0m\u001b[1;33m]\u001b[0m\u001b[1;33m,\u001b[0m\u001b[1;33m[\u001b[0m\u001b[1;36m435196.212266\u001b[0m\u001b[1;33m,\u001b[0m\u001b[1;36m387804.801841\u001b[0m\u001b[1;33m]\u001b[0m\u001b[1;33m]\u001b[0m\u001b[1;33m)\u001b[0m\u001b[1;33m\u001b[0m\u001b[0m\n\u001b[1;32m----> 5\u001b[1;33m \u001b[0mcoords\u001b[0m \u001b[1;33m=\u001b[0m \u001b[0mnp\u001b[0m\u001b[1;33m.\u001b[0m\u001b[0marray\u001b[0m\u001b[1;33m(\u001b[0m\u001b[1;33m[\u001b[0m\u001b[1;33m[\u001b[0m\u001b[0mit\u001b[0m\u001b[1;33m.\u001b[0m\u001b[0meast\u001b[0m\u001b[1;33m,\u001b[0m\u001b[0mit\u001b[0m\u001b[1;33m.\u001b[0m\u001b[0mnorth\u001b[0m\u001b[1;33m]\u001b[0m \u001b[1;32mfor\u001b[0m \u001b[0mit\u001b[0m \u001b[1;32min\u001b[0m \u001b[0mitems\u001b[0m\u001b[1;33m]\u001b[0m\u001b[1;33m)\u001b[0m\u001b[1;33m\u001b[0m\u001b[0m\n\u001b[0m\u001b[0;32m      6\u001b[0m \u001b[0mplt\u001b[0m\u001b[1;33m.\u001b[0m\u001b[0mplot\u001b[0m\u001b[1;33m(\u001b[0m\u001b[0mcoords\u001b[0m\u001b[1;33m[\u001b[0m\u001b[1;33m:\u001b[0m\u001b[1;33m,\u001b[0m\u001b[1;36m0\u001b[0m\u001b[1;33m]\u001b[0m\u001b[1;33m,\u001b[0m\u001b[0mcoords\u001b[0m\u001b[1;33m[\u001b[0m\u001b[1;33m:\u001b[0m\u001b[1;33m,\u001b[0m\u001b[1;36m1\u001b[0m\u001b[1;33m]\u001b[0m\u001b[1;33m,\u001b[0m\u001b[1;34m'x'\u001b[0m\u001b[1;33m)\u001b[0m\u001b[1;33m\u001b[0m\u001b[0m\n\u001b[0;32m      7\u001b[0m \u001b[0mplt\u001b[0m\u001b[1;33m.\u001b[0m\u001b[0mplot\u001b[0m\u001b[1;33m(\u001b[0m\u001b[0mdone\u001b[0m\u001b[1;33m[\u001b[0m\u001b[1;33m:\u001b[0m\u001b[1;33m,\u001b[0m\u001b[1;36m0\u001b[0m\u001b[1;33m]\u001b[0m\u001b[1;33m,\u001b[0m\u001b[0mdone\u001b[0m\u001b[1;33m[\u001b[0m\u001b[1;33m:\u001b[0m\u001b[1;33m,\u001b[0m\u001b[1;36m1\u001b[0m\u001b[1;33m]\u001b[0m\u001b[1;33m,\u001b[0m\u001b[1;34m'o'\u001b[0m\u001b[1;33m)\u001b[0m\u001b[1;33m\u001b[0m\u001b[0m\n",
      "\u001b[1;31mNameError\u001b[0m: name 'items' is not defined"
     ]
    }
   ],
   "source": [
    "import matplotlib.pyplot as plt\n",
    "%matplotlib inline\n",
    "import numpy as np\n",
    "done = np.array([[432481.664593,382013.663893],[435196.212266,387804.801841]])\n",
    "coords = np.array([[it.east,it.north] for it in items])\n",
    "plt.plot(coords[:,0],coords[:,1],'x')\n",
    "plt.plot(done[:,0],done[:,1],'o')\n",
    "for i in range(2):\n",
    "    circle1=plt.Circle((done[i][0],done[i][1]),4200,fill=False)\n",
    "    plt.gcf().gca().add_artist(circle1)\n",
    "plt.axes().set_aspect('equal', 'datalim')\n",
    "for c,e in zip(coords,entropy):\n",
    "    plt.axes().annotate('%0.2f' % e,c)"
   ]
  },
  {
   "cell_type": "code",
   "execution_count": 3,
   "metadata": {
    "collapsed": false
   },
   "outputs": [
    {
     "data": {
      "text/plain": [
       "<matplotlib.contour.QuadContourSet instance at 0x7fd4bb20ad88>"
      ]
     },
     "execution_count": 3,
     "metadata": {},
     "output_type": "execute_result"
    },
    {
     "data": {
      "image/png": "[encoded data removed]",
      "text/plain": [
       "<matplotlib.figure.Figure at 0x7fd5002a6650>"
      ]
     },
     "metadata": {},
     "output_type": "display_data"
    }
   ],
   "source": [
    "import matplotlib.pyplot as plt\n",
    "%matplotlib inline\n",
    "plt.contourf(p)"
   ]
  },
  {
   "cell_type": "code",
   "execution_count": null,
   "metadata": {
    "collapsed": true
   },
   "outputs": [],
   "source": []
  }
 ],
 "metadata": {
  "kernelspec": {
   "display_name": "Python 2",
   "language": "python",
   "name": "python2"
  },
  "language_info": {
   "codemirror_mode": {
    "name": "ipython",
    "version": 2
   },
   "file_extension": ".py",
   "mimetype": "text/x-python",
   "name": "python",
   "nbconvert_exporter": "python",
   "pygments_lexer": "ipython2",
   "version": "2.7.9"
  }
 },
 "nbformat": 4,
 "nbformat_minor": 0
}
