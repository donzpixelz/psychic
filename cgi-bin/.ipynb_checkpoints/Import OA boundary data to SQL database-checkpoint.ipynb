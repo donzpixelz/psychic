{
 "cells": [
  {
   "cell_type": "code",
   "execution_count": 47,
   "metadata": {
    "collapsed": false
   },
   "outputs": [],
   "source": [
    "pathToData = '../../cgi-data/'\n",
    "import sqlalchemy as sa\n",
    "import pandas as pd"
   ]
  },
  {
   "cell_type": "code",
   "execution_count": 63,
   "metadata": {
    "collapsed": false
   },
   "outputs": [],
   "source": [
    "#http://www.ons.gov.uk/ons/guide-method/geography/products/census/lookup/other/index.html\n",
    "url = 'https://geoportal.statistics.gov.uk/Docs/Lookups/Postcodes_(Enumeration)_(2011)_to_output_areas_(2011)_to_lower_layer_SOA_(2011)_to_middle_layer_SOA_(2011)_to_local_authority_districts_(2011)_E+W_lookup.zip'\n",
    "\n",
    "if not os.path.isfile(\"/tmp/psych_postcodes/postcodes.zip\"):\n",
    "    print \"Downloading \"+url\n",
    "    if not os.path.exists('/tmp/psych_postcodes'):\n",
    "        os.makedirs('/tmp/psych_postcodes')\n",
    "    import urllib\n",
    "    urllib.urlretrieve(url, \"/tmp/psych_postcodes/postcodes.zip\")\n",
    "postcode_zipfile = \"/tmp/psych_postcodes/postcodes.zip\"\n",
    "\n",
    "if not os.path.isfile(\"/tmp/psych_postcodes/PCD11_OA11_LSOA11_MSOA11_LAD11_EW_LU.csv\"):   \n",
    "    print \"Opening postcodes.zip\"\n",
    "    import zipfile,os.path\n",
    "    zf = zipfile.ZipFile(postcode_zipfile)\n",
    "    for f in zf.infolist():       \n",
    "        zf.extract(f.filename,\"/tmp/psych_postcodes\")\n",
    "\n",
    "if not os.path.isfile(pathToData+'geo.db'):\n",
    "    print \"Saving geo-postcode/output area data to geo.db\"\n",
    "    db = sa.create_engine('sqlite:///'+pathToData+'geo.db');\n",
    "    con = db.raw_connection(); #http://docs.sqlalchemy.org/en/rel_0_9/core/connections.html#dbapi-connections\n",
    "    con.connection.text_factory = str;\n",
    "    geo = pd.read_csv('/tmp/psych_postcodes/PCD11_OA11_LSOA11_MSOA11_LAD11_EW_LU.csv',encoding='utf-8',dtype=str);\n",
    "    geo.to_sql('geo',con,index=False,if_exists='replace')\n",
    "    con.close();"
   ]
  },
  {
   "cell_type": "code",
   "execution_count": 33,
   "metadata": {
    "collapsed": false
   },
   "outputs": [],
   "source": [
    "#Data for the Output area shapes is from: http://census.edina.ac.uk/ukborders/easy_download/prebuilt/shape/infuse_oa_lyr_2011_clipped.zip\n",
    "#although similar data can also be found at: http://www.ons.gov.uk/ons/guide-method/geography/products/census/spatial/2011/index.html\n",
    "\n",
    "\n",
    "if not os.path.isfile(\"/tmp/psych_oa.zip\"):\n",
    "    url = 'http://census.edina.ac.uk/ukborders/easy_download/prebuilt/shape/infuse_oa_lyr_2011_clipped.zip'\n",
    "    import urllib\n",
    "    urllib.urlretrieve(url, \"/tmp/psych_oa.zip\")\n",
    "oa_zipfile = \"/tmp/psych_oa.zip\"\n",
    "\n",
    "if not os.path.exists(pathToData+\"/OA_shapes\"):\n",
    "    os.makedirs(pathToData+\"/OA_shapes\")\n",
    "\n",
    "    import zipfile,os.path\n",
    "    zf = zipfile.ZipFile(oa_zipfile)\n",
    "    for f in zf.infolist():\n",
    "        zf.extract(f.filename,pathToData+\"/OA_shapes\")"
   ]
  },
  {
   "cell_type": "code",
   "execution_count": 34,
   "metadata": {
    "collapsed": false
   },
   "outputs": [
    {
     "name": "stdout",
     "output_type": "stream",
     "text": [
      "0 of 232296 complete\n",
      "1000 of 232296 complete\n",
      "2000 of 232296 complete\n",
      "3000 of 232296 complete\n",
      "4000 of 232296 complete\n",
      "5000 of 232296 complete\n",
      "6000 of 232296 complete\n",
      "7000 of 232296 complete\n",
      "8000 of 232296 complete\n",
      "9000 of 232296 complete\n",
      "10000 of 232296 complete\n",
      "11000 of 232296 complete\n",
      "12000 of 232296 complete\n",
      "13000 of 232296 complete\n",
      "14000 of 232296 complete\n",
      "15000 of 232296 complete\n",
      "16000 of 232296 complete\n",
      "17000 of 232296 complete\n",
      "18000 of 232296 complete\n",
      "19000 of 232296 complete\n",
      "20000 of 232296 complete\n",
      "21000 of 232296 complete\n",
      "22000 of 232296 complete\n",
      "23000 of 232296 complete\n",
      "24000 of 232296 complete\n",
      "25000 of 232296 complete\n",
      "26000 of 232296 complete\n",
      "27000 of 232296 complete\n",
      "28000 of 232296 complete\n",
      "29000 of 232296 complete\n",
      "30000 of 232296 complete\n",
      "31000 of 232296 complete\n",
      "32000 of 232296 complete\n",
      "33000 of 232296 complete\n",
      "34000 of 232296 complete\n",
      "35000 of 232296 complete\n",
      "36000 of 232296 complete\n",
      "37000 of 232296 complete\n",
      "38000 of 232296 complete\n",
      "39000 of 232296 complete\n",
      "40000 of 232296 complete\n",
      "41000 of 232296 complete\n",
      "42000 of 232296 complete\n",
      "43000 of 232296 complete\n"
     ]
    },
    {
     "ename": "KeyboardInterrupt",
     "evalue": "",
     "output_type": "error",
     "traceback": [
      "\u001b[1;31m---------------------------------------------------------------------------\u001b[0m",
      "\u001b[1;31mKeyboardInterrupt\u001b[0m                         Traceback (most recent call last)",
      "\u001b[1;32m<ipython-input-34-62b883b0ddb0>\u001b[0m in \u001b[0;36m<module>\u001b[1;34m()\u001b[0m\n\u001b[0;32m     25\u001b[0m             \u001b[1;32mprint\u001b[0m \u001b[1;34m\"%d of %d complete\"\u001b[0m \u001b[1;33m%\u001b[0m \u001b[1;33m(\u001b[0m\u001b[0mi\u001b[0m\u001b[1;33m,\u001b[0m\u001b[0msf\u001b[0m\u001b[1;33m.\u001b[0m\u001b[0mnumRecords\u001b[0m\u001b[1;33m)\u001b[0m\u001b[1;33m\u001b[0m\u001b[0m\n\u001b[0;32m     26\u001b[0m             \u001b[0mcur\u001b[0m\u001b[1;33m.\u001b[0m\u001b[0mclose\u001b[0m\u001b[1;33m(\u001b[0m\u001b[1;33m)\u001b[0m\u001b[1;33m\u001b[0m\u001b[0m\n\u001b[1;32m---> 27\u001b[1;33m             \u001b[0mcon\u001b[0m\u001b[1;33m.\u001b[0m\u001b[0mcommit\u001b[0m\u001b[1;33m(\u001b[0m\u001b[1;33m)\u001b[0m\u001b[1;33m\u001b[0m\u001b[0m\n\u001b[0m\u001b[0;32m     28\u001b[0m             \u001b[0mcur\u001b[0m \u001b[1;33m=\u001b[0m \u001b[0mcon\u001b[0m\u001b[1;33m.\u001b[0m\u001b[0mcursor\u001b[0m\u001b[1;33m(\u001b[0m\u001b[1;33m)\u001b[0m\u001b[1;33m\u001b[0m\u001b[0m\n\u001b[0;32m     29\u001b[0m         \u001b[0mshp\u001b[0m \u001b[1;33m=\u001b[0m \u001b[0msf\u001b[0m\u001b[1;33m.\u001b[0m\u001b[0mshape\u001b[0m\u001b[1;33m(\u001b[0m\u001b[0mi\u001b[0m\u001b[1;33m)\u001b[0m\u001b[1;33m\u001b[0m\u001b[0m\n",
      "\u001b[1;31mKeyboardInterrupt\u001b[0m: "
     ]
    }
   ],
   "source": [
    "import json\n",
    "import sqlite3 as lite\n",
    "import pickle\n",
    "pathToData = '../../cgi-data/'\n",
    "import shapefile\n",
    "\n",
    "if not os.path.isfile(pathToData + 'oa_boundaries_.db'):  \n",
    "    sf = shapefile.Reader(pathToData + \"OA_shapes/infuse_oa_lyr_2011_clipped.shp\")\n",
    "    con = lite.connect(pathToData + 'oa_boundaries_.db') \n",
    "    cur = con.cursor()\n",
    "    cur.execute('DROP TABLE IF EXISTS boundaries')\n",
    "    cur.execute('CREATE TABLE IF NOT EXISTS boundaries (id INTEGER PRIMARY KEY AUTOINCREMENT, bbox0 DECIMAL(9,6), bbox1 DECIMAL(9,6), bbox2 DECIMAL(9,6), bbox3 DECIMAL(9,6), shape VARCHAR(50000), record VARCHAR(50000));')\n",
    "    cur.execute('CREATE INDEX bbox0 ON boundaries (bbox0);')\n",
    "    cur.execute('CREATE INDEX bbox1 ON boundaries (bbox1);')\n",
    "    cur.execute('CREATE INDEX bbox2 ON boundaries (bbox2);')\n",
    "    cur.execute('CREATE INDEX bbox3 ON boundaries (bbox3);')\n",
    "\n",
    "    cur.close()\n",
    "    con.commit()\n",
    "    a = []\n",
    "    cur = con.cursor()\n",
    "\n",
    "    for i in range(sf.numRecords):\n",
    "        if ((i % 1000)==0):\n",
    "            print \"%d of %d complete\" % (i,sf.numRecords)\n",
    "            cur.close()\n",
    "            con.commit()\n",
    "            cur = con.cursor()\n",
    "        shp = sf.shape(i)\n",
    "        rec = sf.record(i)\n",
    "        bbox= shp.bbox\n",
    "\n",
    "        shpstring = json.dumps([[p[0],p[1]] for p in shp.points])\n",
    "        recstring = json.dumps(rec)\n",
    "        cur.execute('INSERT INTO boundaries (bbox0, bbox1, bbox2, bbox3, shape, record) VALUES (?,?,?,?,?,?)',(bbox[0],bbox[1],bbox[2],bbox[3],shpstring,recstring));\n",
    "    cur.close()\n",
    "    con.commit()\n",
    "    con.close()"
   ]
  },
  {
   "cell_type": "markdown",
   "metadata": {},
   "source": [
    "To test the database,"
   ]
  },
  {
   "cell_type": "code",
   "execution_count": 1,
   "metadata": {
    "collapsed": false
   },
   "outputs": [
    {
     "name": "stdout",
     "output_type": "stream",
     "text": [
      "Time to perform query: 0.00\n",
      "([u'E00172533', u'E00172406', u'E00172409', u'E00172420', u'E00172496', u'E00172433'], array([ 0.0008456 ,  0.35694444,  0.40202916,  0.00570179,  0.20460033,\n",
      "        0.02987868]))\n"
     ]
    }
   ],
   "source": [
    "import pickle\n",
    "\n",
    "with open('temp.pickle', 'r') as handle:\n",
    "  d=pickle.load( handle)\n",
    "\n",
    "from answer_where import WhereAnswer\n",
    "w = WhereAnswer('','','','')\n",
    "\n",
    "x = w.get_likely_OAs(d['bbox'],d['X'],d['Y'],d['Z'])\n",
    "print x\n",
    "\n",
    "#not bothing to\n"
   ]
  },
  {
   "cell_type": "code",
   "execution_count": 5,
   "metadata": {
    "collapsed": false
   },
   "outputs": [
    {
     "data": {
      "text/plain": [
       "([u'E00172409',\n",
       "  u'E00172533',\n",
       "  u'E00172433',\n",
       "  u'E00172406',\n",
       "  u'E00172420',\n",
       "  u'E00172496'],\n",
       " array([ 0.40202916,  0.0008456 ,  0.02987868,  0.35694444,  0.00570179,\n",
       "         0.20460033]))"
      ]
     },
     "execution_count": 5,
     "metadata": {},
     "output_type": "execute_result"
    }
   ],
   "source": []
  },
  {
   "cell_type": "code",
   "execution_count": null,
   "metadata": {
    "collapsed": true
   },
   "outputs": [],
   "source": []
  }
 ],
 "metadata": {
  "kernelspec": {
   "display_name": "Python 2",
   "language": "python",
   "name": "python2"
  },
  "language_info": {
   "codemirror_mode": {
    "name": "ipython",
    "version": 2
   },
   "file_extension": ".py",
   "mimetype": "text/x-python",
   "name": "python",
   "nbconvert_exporter": "python",
   "pygments_lexer": "ipython2",
   "version": "2.7.9"
  }
 },
 "nbformat": 4,
 "nbformat_minor": 0
}
